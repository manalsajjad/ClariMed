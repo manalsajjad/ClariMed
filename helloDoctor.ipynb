{
 "cells": [
  {
   "cell_type": "code",
   "execution_count": 271,
   "id": "ceb75a74-adf4-45cd-a616-d324aa0301c5",
   "metadata": {},
   "outputs": [],
   "source": [
    "import os\n",
    "import requests\n",
    "import base64\n",
    "from openai import OpenAI\n",
    "import openai\n",
    "from dotenv import load_dotenv\n",
    "from PIL import Image\n"
   ]
  },
  {
   "cell_type": "code",
   "execution_count": 272,
   "id": "f079b690-6d8c-4e57-988a-7596e499df3d",
   "metadata": {},
   "outputs": [],
   "source": [
    "# Load environment variables from .env file\n",
    "load_dotenv()\n",
    "\n",
    "# Access environment variables\n",
    "openai.api_key = os.getenv(\"API_KEY\")\n",
    "openai.api_type = os.getenv(\"API_TYPE\")\n",
    "openai.api_version = os.getenv(\"API_VERSION\")\n",
    "openai.azure_endpoint = os.getenv(\"AZURE_ENDPOINT\")"
   ]
  },
  {
   "cell_type": "code",
   "execution_count": 273,
   "id": "5d1f3fc8-d17b-4dca-8684-e6e6efca0280",
   "metadata": {},
   "outputs": [],
   "source": [
    "MODEL=\"gpt-4o-mini\""
   ]
  },
  {
   "cell_type": "code",
   "execution_count": 274,
   "id": "f19d21db-8ae9-44e3-9b2e-aaaabb2b5c73",
   "metadata": {},
   "outputs": [],
   "source": [
    "# completion = openai.chat.completions.create(\n",
    "#   model=MODEL,\n",
    "#   temperature=0,\n",
    "#   top_p=1,\n",
    "#   max_tokens=2000,\n",
    "#   messages=[\n",
    "#     {\"role\": \"system\", \"content\": \"You are a helpful assistant that helps me with my math homework!\"},\n",
    "#     {\"role\": \"user\", \"content\": \"Hello! Could you solve 20 x 5?\"}\n",
    "#   ]\n",
    "# )\n",
    "# print(\"Assistant: \" + completion.choices[0].message.content)"
   ]
  },
  {
   "cell_type": "code",
   "execution_count": 275,
   "id": "cc46eabd-bbea-4a52-8d96-c89495f612ca",
   "metadata": {},
   "outputs": [],
   "source": [
    "meta_prompt = \"\"\"\n",
    "You are a helpful medical assistant tasked with analyzing the text from a medical prescription image and extracting relevant information. \n",
    "Your goal is to provide a clear and concise summary of the prescription based on the following key points.\n",
    "\n",
    "- First predict if the image is of prescription or not, if not, return with output: \"Not a Prescription\". \n",
    "Otherwise, continue without saying it is prescription.\n",
    "\n",
    "Key Information to Extract:\n",
    "- Medical Advice (if present, otherwise skip).\n",
    "- Medicine Name (if present, otherwise skip), and validate the name to ensure it’s a valid medicine. If not valid, correct the medicine name.\n",
    "- Dosage (if present, otherwise skip), and explain the dosage instructions (e.g., twice daily, bd, od).\n",
    "- Names of Tests (if present, otherwise skip), validate the names of the tests.\n",
    "- Duration of Medication (if present, otherwise skip) – how long the medication should be followed.\n",
    "\n",
    "Rules:\n",
    "- For any medicine names, provide a brief explanation of the use of the medicine.\n",
    "- Validate the medicine names against a list of recognized medicines to ensure accuracy.\n",
    "- Validate the test names against a list of recognized medical tests to ensure accuracy.\n",
    "- Interpret dosage shorthand:\n",
    "   - \"o---o\" or two time o with a - in between means, twice daily\n",
    "   - \"bd\" = one tablet after breakfast and one after dinner\n",
    "   - \"od\" = one tablet daily\n",
    "- Rx indicates a prescription, ensure it's handled appropriately.\n",
    "- Do not repeat information twice within the response.\n",
    "\n",
    "Output Format:\n",
    "- The response should be a single paragraph without any use of bullet points, numbers, or special characters like ** or -.\n",
    "- The response should include only the information that is present in the prescription and should be formatted in natural language.\n",
    "\"\"\""
   ]
  },
  {
   "cell_type": "code",
   "execution_count": 276,
   "id": "544ffe53-b45c-41cb-80fd-21863c8cdb04",
   "metadata": {},
   "outputs": [],
   "source": [
    "def get_chat_completion(language, image_file, model=MODEL, meta_prompt=meta_prompt):\n",
    "    \"\"\"\n",
    "    This function sends a chat completion request to the OpenAI API with a given model,\n",
    "    meta prompt, user message, and image in base64 format.\n",
    "\n",
    "    Args:\n",
    "        language (str): The text that the user sends (language).\n",
    "        image_file (str): The file name of the image\n",
    "        model (str): The model to be used (e.g., 'gpt-4o-mini').\n",
    "        meta_prompt (str): The system-level prompt.\n",
    "\n",
    "    Returns:\n",
    "        str: The completion response from the API.\n",
    "    \"\"\"\n",
    "\n",
    "    prompt = f\"Return the responses in {language} language\"\n",
    "    image_path = os.path.join(os.getcwd(), image_file)\n",
    "    encoded_image = base64.b64encode(open(image_file, 'rb').read()).decode('ascii')\n",
    "    \n",
    "    # Make the chat completion request\n",
    "    response = openai.chat.completions.create(\n",
    "        model=MODEL,\n",
    "        messages=[\n",
    "            {\"role\": \"system\", \"content\": meta_prompt},\n",
    "            {\"role\": \"user\", \"content\": [\n",
    "                {\"type\": \"text\", \"text\": prompt},\n",
    "                {\"type\": \"image_url\", \"image_url\": {\n",
    "                    \"url\": f\"data:image/png;base64,{encoded_image}\"}\n",
    "                }\n",
    "            ]}\n",
    "        ],\n",
    "        temperature=0,\n",
    "        top_p=1,\n",
    "        max_tokens=2000,\n",
    "    )\n",
    "\n",
    "   \n",
    "    \n",
    "    # Return the content of the completion\n",
    "    result = response.choices[0].message.content\n",
    "    print(response.choices[0].message.content)\n",
    "    engine = pyttsx3.init()\n",
    "    engine.say(result)\n",
    "    engine.runAndWait()\n",
    "    \n",
    "    # Display the image using PIL\n",
    "    img = Image.open(image_path)\n",
    "    img.show()\n"
   ]
  },
  {
   "cell_type": "code",
   "execution_count": 284,
   "id": "aeefb46b-3d09-4033-920b-ef8e44d6045c",
   "metadata": {},
   "outputs": [
    {
     "name": "stdout",
     "output_type": "stream",
     "text": [
      "इस प्रिस्क्रिप्शन में \"Paicel 20\" नामक दवा दी गई है, जो आमतौर पर दर्द निवारक के रूप में उपयोग होती है। इसे दिन में दो बार लेने की सलाह दी गई है। इसके अलावा \"Apifex 160\" नामक दवा भी है, जिसे दिन में एक बार लेने के लिए कहा गया है। अंत में \"Linagliptin\" नामक दवा का उल्लेख है, जिसे भी दिन में एक बार लेने की सलाह दी गई है।\n"
     ]
    }
   ],
   "source": [
    "get_chat_completion(language=\"Hindi\", image_file=\"images/pres3.jpg\")"
   ]
  },
  {
   "cell_type": "code",
   "execution_count": null,
   "id": "3db94234-c74b-40ab-80a7-846109fa5153",
   "metadata": {},
   "outputs": [],
   "source": []
  },
  {
   "cell_type": "code",
   "execution_count": null,
   "id": "1e038343-11f4-4060-a8ba-85e760bc9138",
   "metadata": {},
   "outputs": [],
   "source": []
  }
 ],
 "metadata": {
  "kernelspec": {
   "display_name": "Python 3 (ipykernel)",
   "language": "python",
   "name": "python3"
  },
  "language_info": {
   "codemirror_mode": {
    "name": "ipython",
    "version": 3
   },
   "file_extension": ".py",
   "mimetype": "text/x-python",
   "name": "python",
   "nbconvert_exporter": "python",
   "pygments_lexer": "ipython3",
   "version": "3.11.9"
  }
 },
 "nbformat": 4,
 "nbformat_minor": 5
}
